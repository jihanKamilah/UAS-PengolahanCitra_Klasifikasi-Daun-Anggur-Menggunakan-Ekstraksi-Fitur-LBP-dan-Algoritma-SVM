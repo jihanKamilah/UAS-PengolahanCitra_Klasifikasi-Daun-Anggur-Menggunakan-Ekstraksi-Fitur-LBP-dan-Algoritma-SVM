{
  "cells": [
    {
      "cell_type": "markdown",
      "metadata": {
        "id": "d0NFk1ImDLoD"
      },
      "source": [
        "# IMPORT LIBRARY"
      ]
    },
    {
      "cell_type": "code",
      "execution_count": null,
      "metadata": {
        "id": "FfZrWLtbDEmS"
      },
      "outputs": [],
      "source": [
        "import pandas as pd\n",
        "import numpy as np\n",
        "import matplotlib.pyplot as plt\n",
        "import os\n",
        "import glob\n",
        "import cv2 as cv\n",
        "from skimage import feature"
      ]
    },
    {
      "cell_type": "markdown",
      "metadata": {
        "id": "j6BjJ4R6Dhpl"
      },
      "source": [
        "# IMPORT DATASETS"
      ]
    },
    {
      "cell_type": "code",
      "execution_count": null,
      "metadata": {
        "colab": {
          "base_uri": "https://localhost:8080/"
        },
        "id": "JZ-ASFYfDW1r",
        "outputId": "54c0171b-2bed-4842-9e1c-9e4d0ef311b3"
      },
      "outputs": [
        {
          "output_type": "stream",
          "name": "stdout",
          "text": [
            "Mounted at /content/drive\n"
          ]
        }
      ],
      "source": [
        "from google.colab import drive\n",
        "drive.mount(\"/content/drive\")"
      ]
    },
    {
      "cell_type": "markdown",
      "source": [
        "Link dataset: https://drive.google.com/drive/folders/1c_APRJ26tW_F3Kqyuc1ZdkzCNZDDU25D?usp=sharing"
      ],
      "metadata": {
        "id": "vS7hdWBvzKV7"
      }
    },
    {
      "cell_type": "markdown",
      "source": [
        "# Preprocessing"
      ],
      "metadata": {
        "id": "4Sr0qHDkSI6s"
      }
    },
    {
      "cell_type": "code",
      "source": [
        "class_citra = ['Nazli', 'Ak']\n",
        "citra_direct = \"../content/drive/My Drive/Last Project/Grapevine_Dataset/\"\n",
        "size_citra = 256\n",
        "\n",
        "data_citra, label_citra = [],[]\n",
        "\n",
        "for label in class_citra:\n",
        "  path = os.path.join(citra_direct, label)\n",
        "  class_num = class_citra.index(label)  \n",
        "  \n",
        "  for img in os.listdir(path):\n",
        "    gabung = os.path.join(path, img)\n",
        "    print(gabung)\n",
        "    try:\n",
        "      #Membaca citra\n",
        "      img_arr = cv.imread(gabung, 0)\n",
        "\n",
        "      #Me-resize citra\n",
        "      resized_arr = cv.resize(img_arr, (size_citra, size_citra))\n",
        "\n",
        "      #Memotong citra  \n",
        "      cropped_image = resized_arr[35:220, 60:230] #(Vertikal : horizontal)\n",
        "\n",
        "      #Remove Noise\n",
        "      median3_3 = cv.medianBlur(cropped_image, ksize = 3)\n",
        "\n",
        "      #Mendeteksi tepi citra dengan median 3x3\n",
        "      edges = cv.Canny(median3_3, 255, 180)\n",
        "\n",
        "      data_citra.append(edges)\n",
        "      label_citra.append(class_num)\n",
        "\n",
        "    except Exception as e:\n",
        "      print(e)"
      ],
      "metadata": {
        "colab": {
          "base_uri": "https://localhost:8080/"
        },
        "id": "wzKMpzCsRVM_",
        "outputId": "f84e5e50-cb4b-4852-ceec-ba7848c55d76"
      },
      "execution_count": null,
      "outputs": [
        {
          "output_type": "stream",
          "name": "stdout",
          "text": [
            "../content/drive/My Drive/Last Project/Grapevine_Dataset/Nazli/Nazli (9).png\n",
            "../content/drive/My Drive/Last Project/Grapevine_Dataset/Nazli/Nazli (84).png\n",
            "../content/drive/My Drive/Last Project/Grapevine_Dataset/Nazli/Nazli (8).png\n",
            "../content/drive/My Drive/Last Project/Grapevine_Dataset/Nazli/Nazli (39).png\n",
            "../content/drive/My Drive/Last Project/Grapevine_Dataset/Nazli/Nazli (44).png\n",
            "../content/drive/My Drive/Last Project/Grapevine_Dataset/Nazli/Nazli (75).png\n",
            "../content/drive/My Drive/Last Project/Grapevine_Dataset/Nazli/Nazli (61).png\n",
            "../content/drive/My Drive/Last Project/Grapevine_Dataset/Nazli/Nazli (25).png\n",
            "../content/drive/My Drive/Last Project/Grapevine_Dataset/Nazli/Nazli (52).png\n",
            "../content/drive/My Drive/Last Project/Grapevine_Dataset/Nazli/Nazli (60).png\n",
            "../content/drive/My Drive/Last Project/Grapevine_Dataset/Nazli/Nazli (70).png\n",
            "../content/drive/My Drive/Last Project/Grapevine_Dataset/Nazli/Nazli (56).png\n",
            "../content/drive/My Drive/Last Project/Grapevine_Dataset/Nazli/Nazli (23).png\n",
            "../content/drive/My Drive/Last Project/Grapevine_Dataset/Nazli/Nazli (89).png\n",
            "../content/drive/My Drive/Last Project/Grapevine_Dataset/Nazli/Nazli (11).png\n",
            "../content/drive/My Drive/Last Project/Grapevine_Dataset/Nazli/Nazli (32).png\n",
            "../content/drive/My Drive/Last Project/Grapevine_Dataset/Nazli/Nazli (66).png\n",
            "../content/drive/My Drive/Last Project/Grapevine_Dataset/Nazli/Nazli (7).png\n",
            "../content/drive/My Drive/Last Project/Grapevine_Dataset/Nazli/Nazli (31).png\n",
            "../content/drive/My Drive/Last Project/Grapevine_Dataset/Nazli/Nazli (49).png\n",
            "../content/drive/My Drive/Last Project/Grapevine_Dataset/Nazli/Nazli (91).png\n",
            "../content/drive/My Drive/Last Project/Grapevine_Dataset/Nazli/Nazli (15).png\n",
            "../content/drive/My Drive/Last Project/Grapevine_Dataset/Nazli/Nazli (36).png\n",
            "../content/drive/My Drive/Last Project/Grapevine_Dataset/Nazli/Nazli (19).png\n",
            "../content/drive/My Drive/Last Project/Grapevine_Dataset/Nazli/Nazli (73).png\n",
            "../content/drive/My Drive/Last Project/Grapevine_Dataset/Nazli/Nazli (50).png\n",
            "../content/drive/My Drive/Last Project/Grapevine_Dataset/Nazli/Nazli (22).png\n",
            "../content/drive/My Drive/Last Project/Grapevine_Dataset/Nazli/Nazli (68).png\n",
            "../content/drive/My Drive/Last Project/Grapevine_Dataset/Nazli/Nazli (53).png\n",
            "../content/drive/My Drive/Last Project/Grapevine_Dataset/Nazli/Nazli (57).png\n",
            "../content/drive/My Drive/Last Project/Grapevine_Dataset/Nazli/Nazli (26).png\n",
            "../content/drive/My Drive/Last Project/Grapevine_Dataset/Nazli/Nazli (90).png\n",
            "../content/drive/My Drive/Last Project/Grapevine_Dataset/Nazli/Nazli (28).png\n",
            "../content/drive/My Drive/Last Project/Grapevine_Dataset/Nazli/Nazli (40).png\n",
            "../content/drive/My Drive/Last Project/Grapevine_Dataset/Nazli/Nazli (59).png\n",
            "../content/drive/My Drive/Last Project/Grapevine_Dataset/Nazli/Nazli (45).png\n",
            "../content/drive/My Drive/Last Project/Grapevine_Dataset/Nazli/Nazli (41).png\n",
            "../content/drive/My Drive/Last Project/Grapevine_Dataset/Nazli/Nazli (35).png\n",
            "../content/drive/My Drive/Last Project/Grapevine_Dataset/Nazli/Nazli (47).png\n",
            "../content/drive/My Drive/Last Project/Grapevine_Dataset/Nazli/Nazli (85).png\n",
            "../content/drive/My Drive/Last Project/Grapevine_Dataset/Nazli/Nazli (55).png\n",
            "../content/drive/My Drive/Last Project/Grapevine_Dataset/Nazli/Nazli (1).png\n",
            "../content/drive/My Drive/Last Project/Grapevine_Dataset/Nazli/Nazli (62).png\n",
            "../content/drive/My Drive/Last Project/Grapevine_Dataset/Nazli/Nazli (76).png\n",
            "../content/drive/My Drive/Last Project/Grapevine_Dataset/Nazli/Nazli (4).png\n",
            "../content/drive/My Drive/Last Project/Grapevine_Dataset/Nazli/Nazli (83).png\n",
            "../content/drive/My Drive/Last Project/Grapevine_Dataset/Nazli/Nazli (58).png\n",
            "../content/drive/My Drive/Last Project/Grapevine_Dataset/Nazli/Nazli (14).png\n",
            "../content/drive/My Drive/Last Project/Grapevine_Dataset/Nazli/Nazli (81).png\n",
            "../content/drive/My Drive/Last Project/Grapevine_Dataset/Nazli/Nazli (5).png\n",
            "../content/drive/My Drive/Last Project/Grapevine_Dataset/Nazli/Nazli (100).png\n",
            "../content/drive/My Drive/Last Project/Grapevine_Dataset/Nazli/Nazli (54).png\n",
            "../content/drive/My Drive/Last Project/Grapevine_Dataset/Nazli/Nazli (82).png\n",
            "../content/drive/My Drive/Last Project/Grapevine_Dataset/Nazli/Nazli (18).png\n",
            "../content/drive/My Drive/Last Project/Grapevine_Dataset/Nazli/Nazli (33).png\n",
            "../content/drive/My Drive/Last Project/Grapevine_Dataset/Nazli/Nazli (27).png\n",
            "../content/drive/My Drive/Last Project/Grapevine_Dataset/Nazli/Nazli (10).png\n",
            "../content/drive/My Drive/Last Project/Grapevine_Dataset/Nazli/Nazli (65).png\n",
            "../content/drive/My Drive/Last Project/Grapevine_Dataset/Nazli/Nazli (51).png\n",
            "../content/drive/My Drive/Last Project/Grapevine_Dataset/Nazli/Nazli (16).png\n",
            "../content/drive/My Drive/Last Project/Grapevine_Dataset/Nazli/Nazli (29).png\n",
            "../content/drive/My Drive/Last Project/Grapevine_Dataset/Nazli/Nazli (74).png\n",
            "../content/drive/My Drive/Last Project/Grapevine_Dataset/Nazli/Nazli (69).png\n",
            "../content/drive/My Drive/Last Project/Grapevine_Dataset/Nazli/Nazli (64).png\n",
            "../content/drive/My Drive/Last Project/Grapevine_Dataset/Nazli/Nazli (3).png\n",
            "../content/drive/My Drive/Last Project/Grapevine_Dataset/Nazli/Nazli (21).png\n",
            "../content/drive/My Drive/Last Project/Grapevine_Dataset/Nazli/Nazli (24).png\n",
            "../content/drive/My Drive/Last Project/Grapevine_Dataset/Nazli/Nazli (30).png\n",
            "../content/drive/My Drive/Last Project/Grapevine_Dataset/Nazli/Nazli (72).png\n",
            "../content/drive/My Drive/Last Project/Grapevine_Dataset/Nazli/Nazli (17).png\n",
            "../content/drive/My Drive/Last Project/Grapevine_Dataset/Nazli/Nazli (71).png\n",
            "../content/drive/My Drive/Last Project/Grapevine_Dataset/Nazli/Nazli (79).png\n",
            "../content/drive/My Drive/Last Project/Grapevine_Dataset/Nazli/Nazli (2).png\n",
            "../content/drive/My Drive/Last Project/Grapevine_Dataset/Nazli/Nazli (88).png\n",
            "../content/drive/My Drive/Last Project/Grapevine_Dataset/Nazli/Nazli (86).png\n",
            "../content/drive/My Drive/Last Project/Grapevine_Dataset/Nazli/Nazli (37).png\n",
            "../content/drive/My Drive/Last Project/Grapevine_Dataset/Nazli/Nazli (48).png\n",
            "../content/drive/My Drive/Last Project/Grapevine_Dataset/Nazli/Nazli (77).png\n",
            "../content/drive/My Drive/Last Project/Grapevine_Dataset/Nazli/Nazli (20).png\n",
            "../content/drive/My Drive/Last Project/Grapevine_Dataset/Nazli/Nazli (13).png\n",
            "../content/drive/My Drive/Last Project/Grapevine_Dataset/Nazli/Nazli (80).png\n",
            "../content/drive/My Drive/Last Project/Grapevine_Dataset/Nazli/Nazli (34).png\n",
            "../content/drive/My Drive/Last Project/Grapevine_Dataset/Nazli/Nazli (63).png\n",
            "../content/drive/My Drive/Last Project/Grapevine_Dataset/Nazli/Nazli (87).png\n",
            "../content/drive/My Drive/Last Project/Grapevine_Dataset/Nazli/Nazli (12).png\n",
            "../content/drive/My Drive/Last Project/Grapevine_Dataset/Nazli/Nazli (42).png\n",
            "../content/drive/My Drive/Last Project/Grapevine_Dataset/Nazli/Nazli (78).png\n",
            "../content/drive/My Drive/Last Project/Grapevine_Dataset/Nazli/Nazli (38).png\n",
            "../content/drive/My Drive/Last Project/Grapevine_Dataset/Nazli/Nazli (43).png\n",
            "../content/drive/My Drive/Last Project/Grapevine_Dataset/Nazli/Nazli (67).png\n",
            "../content/drive/My Drive/Last Project/Grapevine_Dataset/Nazli/Nazli (46).png\n",
            "../content/drive/My Drive/Last Project/Grapevine_Dataset/Nazli/Nazli (6).png\n",
            "../content/drive/My Drive/Last Project/Grapevine_Dataset/Nazli/Nazli (97).png\n",
            "../content/drive/My Drive/Last Project/Grapevine_Dataset/Nazli/Nazli (95).png\n",
            "../content/drive/My Drive/Last Project/Grapevine_Dataset/Nazli/Nazli (93).png\n",
            "../content/drive/My Drive/Last Project/Grapevine_Dataset/Nazli/Nazli (99).png\n",
            "../content/drive/My Drive/Last Project/Grapevine_Dataset/Nazli/Nazli (96).png\n",
            "../content/drive/My Drive/Last Project/Grapevine_Dataset/Nazli/Nazli (98).png\n",
            "../content/drive/My Drive/Last Project/Grapevine_Dataset/Nazli/Nazli (94).png\n",
            "../content/drive/My Drive/Last Project/Grapevine_Dataset/Nazli/Nazli (92).png\n",
            "../content/drive/My Drive/Last Project/Grapevine_Dataset/Ak/Ak (14).png\n",
            "../content/drive/My Drive/Last Project/Grapevine_Dataset/Ak/Ak (1).png\n",
            "../content/drive/My Drive/Last Project/Grapevine_Dataset/Ak/Ak (13).png\n",
            "../content/drive/My Drive/Last Project/Grapevine_Dataset/Ak/Ak (11).png\n",
            "../content/drive/My Drive/Last Project/Grapevine_Dataset/Ak/Ak (12).png\n",
            "../content/drive/My Drive/Last Project/Grapevine_Dataset/Ak/Ak (10).png\n",
            "../content/drive/My Drive/Last Project/Grapevine_Dataset/Ak/Ak (16).png\n",
            "../content/drive/My Drive/Last Project/Grapevine_Dataset/Ak/Ak (100).png\n",
            "../content/drive/My Drive/Last Project/Grapevine_Dataset/Ak/Ak (15).png\n",
            "../content/drive/My Drive/Last Project/Grapevine_Dataset/Ak/Ak (92).png\n",
            "../content/drive/My Drive/Last Project/Grapevine_Dataset/Ak/Ak (55).png\n",
            "../content/drive/My Drive/Last Project/Grapevine_Dataset/Ak/Ak (40).png\n",
            "../content/drive/My Drive/Last Project/Grapevine_Dataset/Ak/Ak (25).png\n",
            "../content/drive/My Drive/Last Project/Grapevine_Dataset/Ak/Ak (98).png\n",
            "../content/drive/My Drive/Last Project/Grapevine_Dataset/Ak/Ak (90).png\n",
            "../content/drive/My Drive/Last Project/Grapevine_Dataset/Ak/Ak (7).png\n",
            "../content/drive/My Drive/Last Project/Grapevine_Dataset/Ak/Ak (31).png\n",
            "../content/drive/My Drive/Last Project/Grapevine_Dataset/Ak/Ak (19).png\n",
            "../content/drive/My Drive/Last Project/Grapevine_Dataset/Ak/Ak (22).png\n",
            "../content/drive/My Drive/Last Project/Grapevine_Dataset/Ak/Ak (76).png\n",
            "../content/drive/My Drive/Last Project/Grapevine_Dataset/Ak/Ak (51).png\n",
            "../content/drive/My Drive/Last Project/Grapevine_Dataset/Ak/Ak (23).png\n",
            "../content/drive/My Drive/Last Project/Grapevine_Dataset/Ak/Ak (58).png\n",
            "../content/drive/My Drive/Last Project/Grapevine_Dataset/Ak/Ak (3).png\n",
            "../content/drive/My Drive/Last Project/Grapevine_Dataset/Ak/Ak (9).png\n",
            "../content/drive/My Drive/Last Project/Grapevine_Dataset/Ak/Ak (42).png\n",
            "../content/drive/My Drive/Last Project/Grapevine_Dataset/Ak/Ak (60).png\n",
            "../content/drive/My Drive/Last Project/Grapevine_Dataset/Ak/Ak (35).png\n",
            "../content/drive/My Drive/Last Project/Grapevine_Dataset/Ak/Ak (2).png\n",
            "../content/drive/My Drive/Last Project/Grapevine_Dataset/Ak/Ak (24).png\n",
            "../content/drive/My Drive/Last Project/Grapevine_Dataset/Ak/Ak (80).png\n",
            "../content/drive/My Drive/Last Project/Grapevine_Dataset/Ak/Ak (81).png\n",
            "../content/drive/My Drive/Last Project/Grapevine_Dataset/Ak/Ak (54).png\n",
            "../content/drive/My Drive/Last Project/Grapevine_Dataset/Ak/Ak (53).png\n",
            "../content/drive/My Drive/Last Project/Grapevine_Dataset/Ak/Ak (32).png\n",
            "../content/drive/My Drive/Last Project/Grapevine_Dataset/Ak/Ak (27).png\n",
            "../content/drive/My Drive/Last Project/Grapevine_Dataset/Ak/Ak (66).png\n",
            "../content/drive/My Drive/Last Project/Grapevine_Dataset/Ak/Ak (71).png\n",
            "../content/drive/My Drive/Last Project/Grapevine_Dataset/Ak/Ak (36).png\n",
            "../content/drive/My Drive/Last Project/Grapevine_Dataset/Ak/Ak (70).png\n",
            "../content/drive/My Drive/Last Project/Grapevine_Dataset/Ak/Ak (89).png\n",
            "../content/drive/My Drive/Last Project/Grapevine_Dataset/Ak/Ak (6).png\n",
            "../content/drive/My Drive/Last Project/Grapevine_Dataset/Ak/Ak (75).png\n",
            "../content/drive/My Drive/Last Project/Grapevine_Dataset/Ak/Ak (8).png\n",
            "../content/drive/My Drive/Last Project/Grapevine_Dataset/Ak/Ak (44).png\n",
            "../content/drive/My Drive/Last Project/Grapevine_Dataset/Ak/Ak (28).png\n",
            "../content/drive/My Drive/Last Project/Grapevine_Dataset/Ak/Ak (41).png\n",
            "../content/drive/My Drive/Last Project/Grapevine_Dataset/Ak/Ak (73).png\n",
            "../content/drive/My Drive/Last Project/Grapevine_Dataset/Ak/Ak (87).png\n",
            "../content/drive/My Drive/Last Project/Grapevine_Dataset/Ak/Ak (49).png\n",
            "../content/drive/My Drive/Last Project/Grapevine_Dataset/Ak/Ak (5).png\n",
            "../content/drive/My Drive/Last Project/Grapevine_Dataset/Ak/Ak (95).png\n",
            "../content/drive/My Drive/Last Project/Grapevine_Dataset/Ak/Ak (21).png\n",
            "../content/drive/My Drive/Last Project/Grapevine_Dataset/Ak/Ak (99).png\n",
            "../content/drive/My Drive/Last Project/Grapevine_Dataset/Ak/Ak (37).png\n",
            "../content/drive/My Drive/Last Project/Grapevine_Dataset/Ak/Ak (84).png\n",
            "../content/drive/My Drive/Last Project/Grapevine_Dataset/Ak/Ak (45).png\n",
            "../content/drive/My Drive/Last Project/Grapevine_Dataset/Ak/Ak (34).png\n",
            "../content/drive/My Drive/Last Project/Grapevine_Dataset/Ak/Ak (18).png\n",
            "../content/drive/My Drive/Last Project/Grapevine_Dataset/Ak/Ak (33).png\n",
            "../content/drive/My Drive/Last Project/Grapevine_Dataset/Ak/Ak (30).png\n",
            "../content/drive/My Drive/Last Project/Grapevine_Dataset/Ak/Ak (61).png\n",
            "../content/drive/My Drive/Last Project/Grapevine_Dataset/Ak/Ak (78).png\n",
            "../content/drive/My Drive/Last Project/Grapevine_Dataset/Ak/Ak (68).png\n",
            "../content/drive/My Drive/Last Project/Grapevine_Dataset/Ak/Ak (93).png\n",
            "../content/drive/My Drive/Last Project/Grapevine_Dataset/Ak/Ak (85).png\n",
            "../content/drive/My Drive/Last Project/Grapevine_Dataset/Ak/Ak (94).png\n",
            "../content/drive/My Drive/Last Project/Grapevine_Dataset/Ak/Ak (77).png\n",
            "../content/drive/My Drive/Last Project/Grapevine_Dataset/Ak/Ak (97).png\n",
            "../content/drive/My Drive/Last Project/Grapevine_Dataset/Ak/Ak (96).png\n",
            "../content/drive/My Drive/Last Project/Grapevine_Dataset/Ak/Ak (20).png\n",
            "../content/drive/My Drive/Last Project/Grapevine_Dataset/Ak/Ak (17).png\n",
            "../content/drive/My Drive/Last Project/Grapevine_Dataset/Ak/Ak (52).png\n",
            "../content/drive/My Drive/Last Project/Grapevine_Dataset/Ak/Ak (83).png\n",
            "../content/drive/My Drive/Last Project/Grapevine_Dataset/Ak/Ak (38).png\n",
            "../content/drive/My Drive/Last Project/Grapevine_Dataset/Ak/Ak (72).png\n",
            "../content/drive/My Drive/Last Project/Grapevine_Dataset/Ak/Ak (67).png\n",
            "../content/drive/My Drive/Last Project/Grapevine_Dataset/Ak/Ak (69).png\n",
            "../content/drive/My Drive/Last Project/Grapevine_Dataset/Ak/Ak (39).png\n",
            "../content/drive/My Drive/Last Project/Grapevine_Dataset/Ak/Ak (64).png\n",
            "../content/drive/My Drive/Last Project/Grapevine_Dataset/Ak/Ak (4).png\n",
            "../content/drive/My Drive/Last Project/Grapevine_Dataset/Ak/Ak (50).png\n",
            "../content/drive/My Drive/Last Project/Grapevine_Dataset/Ak/Ak (79).png\n",
            "../content/drive/My Drive/Last Project/Grapevine_Dataset/Ak/Ak (91).png\n",
            "../content/drive/My Drive/Last Project/Grapevine_Dataset/Ak/Ak (82).png\n",
            "../content/drive/My Drive/Last Project/Grapevine_Dataset/Ak/Ak (74).png\n",
            "../content/drive/My Drive/Last Project/Grapevine_Dataset/Ak/Ak (88).png\n",
            "../content/drive/My Drive/Last Project/Grapevine_Dataset/Ak/Ak (29).png\n",
            "../content/drive/My Drive/Last Project/Grapevine_Dataset/Ak/Ak (65).png\n",
            "../content/drive/My Drive/Last Project/Grapevine_Dataset/Ak/Ak (47).png\n",
            "../content/drive/My Drive/Last Project/Grapevine_Dataset/Ak/Ak (56).png\n",
            "../content/drive/My Drive/Last Project/Grapevine_Dataset/Ak/Ak (62).png\n",
            "../content/drive/My Drive/Last Project/Grapevine_Dataset/Ak/Ak (57).png\n",
            "../content/drive/My Drive/Last Project/Grapevine_Dataset/Ak/Ak (86).png\n",
            "../content/drive/My Drive/Last Project/Grapevine_Dataset/Ak/Ak (26).png\n",
            "../content/drive/My Drive/Last Project/Grapevine_Dataset/Ak/Ak (59).png\n",
            "../content/drive/My Drive/Last Project/Grapevine_Dataset/Ak/Ak (48).png\n",
            "../content/drive/My Drive/Last Project/Grapevine_Dataset/Ak/Ak (43).png\n",
            "../content/drive/My Drive/Last Project/Grapevine_Dataset/Ak/Ak (63).png\n",
            "../content/drive/My Drive/Last Project/Grapevine_Dataset/Ak/Ak (46).png\n"
          ]
        }
      ]
    },
    {
      "cell_type": "code",
      "source": [
        "img_arr"
      ],
      "metadata": {
        "colab": {
          "base_uri": "https://localhost:8080/"
        },
        "id": "Fk2c7VgN5acz",
        "outputId": "be9b0526-c3d3-47a8-b297-227954888880"
      },
      "execution_count": null,
      "outputs": [
        {
          "output_type": "execute_result",
          "data": {
            "text/plain": [
              "array([[255, 255, 255, ..., 255, 255, 255],\n",
              "       [255, 255, 255, ..., 255, 255, 255],\n",
              "       [255, 255, 255, ..., 255, 255, 255],\n",
              "       ...,\n",
              "       [255, 255, 255, ..., 255, 255, 255],\n",
              "       [255, 255, 255, ..., 255, 255, 255],\n",
              "       [255, 255, 255, ..., 255, 255, 255]], dtype=uint8)"
            ]
          },
          "metadata": {},
          "execution_count": 702
        }
      ]
    },
    {
      "cell_type": "code",
      "source": [
        "len(data_citra)"
      ],
      "metadata": {
        "colab": {
          "base_uri": "https://localhost:8080/"
        },
        "id": "3c4enMNWvUd0",
        "outputId": "cf62b778-5249-4357-d2df-eec71abfc394"
      },
      "execution_count": null,
      "outputs": [
        {
          "output_type": "execute_result",
          "data": {
            "text/plain": [
              "200"
            ]
          },
          "metadata": {},
          "execution_count": 703
        }
      ]
    },
    {
      "cell_type": "code",
      "source": [
        "#Normalisasi citra\n",
        "citra_piksel = data_citra.copy()\n",
        "citra_piksel = np.asarray(citra_piksel)\n",
        "#citra_piksel = citra_piksel.astype('float')\n",
        "#citra_piksel/=255.0"
      ],
      "metadata": {
        "id": "ygpU2GWhVx3j"
      },
      "execution_count": null,
      "outputs": []
    },
    {
      "cell_type": "code",
      "source": [
        "citra_piksel"
      ],
      "metadata": {
        "colab": {
          "base_uri": "https://localhost:8080/"
        },
        "id": "tdxHcbTp5rwz",
        "outputId": "8f597a9f-f777-4c06-83c0-659f01155d03"
      },
      "execution_count": null,
      "outputs": [
        {
          "output_type": "execute_result",
          "data": {
            "text/plain": [
              "array([[[0, 0, 0, ..., 0, 0, 0],\n",
              "        [0, 0, 0, ..., 0, 0, 0],\n",
              "        [0, 0, 0, ..., 0, 0, 0],\n",
              "        ...,\n",
              "        [0, 0, 0, ..., 0, 0, 0],\n",
              "        [0, 0, 0, ..., 0, 0, 0],\n",
              "        [0, 0, 0, ..., 0, 0, 0]],\n",
              "\n",
              "       [[0, 0, 0, ..., 0, 0, 0],\n",
              "        [0, 0, 0, ..., 0, 0, 0],\n",
              "        [0, 0, 0, ..., 0, 0, 0],\n",
              "        ...,\n",
              "        [0, 0, 0, ..., 0, 0, 0],\n",
              "        [0, 0, 0, ..., 0, 0, 0],\n",
              "        [0, 0, 0, ..., 0, 0, 0]],\n",
              "\n",
              "       [[0, 0, 0, ..., 0, 0, 0],\n",
              "        [0, 0, 0, ..., 0, 0, 0],\n",
              "        [0, 0, 0, ..., 0, 0, 0],\n",
              "        ...,\n",
              "        [0, 0, 0, ..., 0, 0, 0],\n",
              "        [0, 0, 0, ..., 0, 0, 0],\n",
              "        [0, 0, 0, ..., 0, 0, 0]],\n",
              "\n",
              "       ...,\n",
              "\n",
              "       [[0, 0, 0, ..., 0, 0, 0],\n",
              "        [0, 0, 0, ..., 0, 0, 0],\n",
              "        [0, 0, 0, ..., 0, 0, 0],\n",
              "        ...,\n",
              "        [0, 0, 0, ..., 0, 0, 0],\n",
              "        [0, 0, 0, ..., 0, 0, 0],\n",
              "        [0, 0, 0, ..., 0, 0, 0]],\n",
              "\n",
              "       [[0, 0, 0, ..., 0, 0, 0],\n",
              "        [0, 0, 0, ..., 0, 0, 0],\n",
              "        [0, 0, 0, ..., 0, 0, 0],\n",
              "        ...,\n",
              "        [0, 0, 0, ..., 0, 0, 0],\n",
              "        [0, 0, 0, ..., 0, 0, 0],\n",
              "        [0, 0, 0, ..., 0, 0, 0]],\n",
              "\n",
              "       [[0, 0, 0, ..., 0, 0, 0],\n",
              "        [0, 0, 0, ..., 0, 0, 0],\n",
              "        [0, 0, 0, ..., 0, 0, 0],\n",
              "        ...,\n",
              "        [0, 0, 0, ..., 0, 0, 0],\n",
              "        [0, 0, 0, ..., 0, 0, 0],\n",
              "        [0, 0, 0, ..., 0, 0, 0]]], dtype=uint8)"
            ]
          },
          "metadata": {},
          "execution_count": 705
        }
      ]
    },
    {
      "cell_type": "markdown",
      "source": [
        "# HITUNG LBP FEATURES"
      ],
      "metadata": {
        "id": "tfszcl7UfuQF"
      }
    },
    {
      "cell_type": "code",
      "execution_count": null,
      "metadata": {
        "id": "PA7niS10HLp9"
      },
      "outputs": [],
      "source": [
        "def lbpFeatures(citra, radius, sampling_of_pixel):\n",
        "\n",
        "  #Mengecek citra apakah sudah mode grayscale atau belum\n",
        "  if(len(citra.shape) > 2): \n",
        "\n",
        "    #Mengubah gambar ke mode grayscale\n",
        "    citra = citra.astype(float)\n",
        "    citra = cv.cvtColor(citra, cv.COLOR_BGR2GRAY)\n",
        "\n",
        "  citra = citra.astype(np.uint8)\n",
        "\n",
        "  #Normalisasi pixel\n",
        "  i_min = np.min(citra)\n",
        "  i_max = np.max(citra)\n",
        "\n",
        "  if(i_max - i_min > 0):\n",
        "    citra = (citra - i_min)/(i_max - i_min)\n",
        "  \n",
        "  #Hitung fitur LBP\n",
        "  lbp = feature.local_binary_pattern(citra, sampling_of_pixel, radius, method=\"uniform\")\n",
        "\n",
        "  #Membuat histogram, array 1D\n",
        "  (hist, _) = np.histogram(lbp.ravel(), bins = np.arange(0, sampling_of_pixel + 3), range = (0, sampling_of_pixel + 2))\n",
        "\n",
        "  #Normalisasi Histogram\n",
        "  hist = hist.astype(float)\n",
        "  hist /= (hist.sum() + 1e-6) #0.000001\n",
        "\n",
        "  return hist"
      ]
    },
    {
      "cell_type": "markdown",
      "source": [
        "# MASUKKAN FEATURES LBP KEDALAM DATAFRAME"
      ],
      "metadata": {
        "id": "by1Qxq0Efym4"
      }
    },
    {
      "cell_type": "code",
      "source": [
        "fitur_citra = []\n",
        "for citra in citra_piksel:\n",
        "  #radius = 6\n",
        "  #sampling = 2\n",
        "  fitur = lbpFeatures(citra, 6, 2)\n",
        "  fitur_citra.append(fitur)"
      ],
      "metadata": {
        "id": "H68vM66NPu7O"
      },
      "execution_count": null,
      "outputs": []
    },
    {
      "cell_type": "code",
      "source": [
        "label_df = pd.DataFrame(label_citra, columns=['Label'])"
      ],
      "metadata": {
        "id": "9zVdnzC3v0iM"
      },
      "execution_count": null,
      "outputs": []
    },
    {
      "cell_type": "code",
      "source": [
        "citra_df = pd.DataFrame(fitur_citra).assign(label = label_df)"
      ],
      "metadata": {
        "id": "Zkiqee6wZ_rw"
      },
      "execution_count": null,
      "outputs": []
    },
    {
      "cell_type": "code",
      "source": [
        "citra_df['label'].value_counts()"
      ],
      "metadata": {
        "colab": {
          "base_uri": "https://localhost:8080/"
        },
        "id": "56OGMjBLabrs",
        "outputId": "0bb4a4b5-4aa2-4bbf-affb-acf66039f27f"
      },
      "execution_count": null,
      "outputs": [
        {
          "output_type": "execute_result",
          "data": {
            "text/plain": [
              "0    100\n",
              "1    100\n",
              "Name: label, dtype: int64"
            ]
          },
          "metadata": {},
          "execution_count": 710
        }
      ]
    },
    {
      "cell_type": "markdown",
      "source": [
        "![image.png](data:image/png;base64,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)"
      ],
      "metadata": {
        "id": "qWs5aaVb2Fn-"
      }
    },
    {
      "cell_type": "code",
      "source": [
        "citra_df"
      ],
      "metadata": {
        "colab": {
          "base_uri": "https://localhost:8080/",
          "height": 424
        },
        "id": "LuAFy7m5yMX6",
        "outputId": "37969e22-ef70-4ad3-8712-8f516efd39f1"
      },
      "execution_count": null,
      "outputs": [
        {
          "output_type": "execute_result",
          "data": {
            "text/plain": [
              "            0         1         2    3  label\n",
              "0    0.026455  0.005787  0.967758  0.0      0\n",
              "1    0.032432  0.007758  0.959809  0.0      0\n",
              "2    0.022035  0.006614  0.971351  0.0      0\n",
              "3    0.030843  0.011574  0.957583  0.0      0\n",
              "4    0.031479  0.004642  0.963879  0.0      0\n",
              "..        ...       ...       ...  ...    ...\n",
              "195  0.022321  0.006359  0.971320  0.0      1\n",
              "196  0.025342  0.005596  0.969062  0.0      1\n",
              "197  0.019459  0.004006  0.976534  0.0      1\n",
              "198  0.028521  0.007186  0.964293  0.0      1\n",
              "199  0.029634  0.007631  0.962734  0.0      1\n",
              "\n",
              "[200 rows x 5 columns]"
            ],
            "text/html": [
              "\n",
              "  <div id=\"df-dc1762e8-e917-4931-9f2e-47ba1a3a523b\">\n",
              "    <div class=\"colab-df-container\">\n",
              "      <div>\n",
              "<style scoped>\n",
              "    .dataframe tbody tr th:only-of-type {\n",
              "        vertical-align: middle;\n",
              "    }\n",
              "\n",
              "    .dataframe tbody tr th {\n",
              "        vertical-align: top;\n",
              "    }\n",
              "\n",
              "    .dataframe thead th {\n",
              "        text-align: right;\n",
              "    }\n",
              "</style>\n",
              "<table border=\"1\" class=\"dataframe\">\n",
              "  <thead>\n",
              "    <tr style=\"text-align: right;\">\n",
              "      <th></th>\n",
              "      <th>0</th>\n",
              "      <th>1</th>\n",
              "      <th>2</th>\n",
              "      <th>3</th>\n",
              "      <th>label</th>\n",
              "    </tr>\n",
              "  </thead>\n",
              "  <tbody>\n",
              "    <tr>\n",
              "      <th>0</th>\n",
              "      <td>0.026455</td>\n",
              "      <td>0.005787</td>\n",
              "      <td>0.967758</td>\n",
              "      <td>0.0</td>\n",
              "      <td>0</td>\n",
              "    </tr>\n",
              "    <tr>\n",
              "      <th>1</th>\n",
              "      <td>0.032432</td>\n",
              "      <td>0.007758</td>\n",
              "      <td>0.959809</td>\n",
              "      <td>0.0</td>\n",
              "      <td>0</td>\n",
              "    </tr>\n",
              "    <tr>\n",
              "      <th>2</th>\n",
              "      <td>0.022035</td>\n",
              "      <td>0.006614</td>\n",
              "      <td>0.971351</td>\n",
              "      <td>0.0</td>\n",
              "      <td>0</td>\n",
              "    </tr>\n",
              "    <tr>\n",
              "      <th>3</th>\n",
              "      <td>0.030843</td>\n",
              "      <td>0.011574</td>\n",
              "      <td>0.957583</td>\n",
              "      <td>0.0</td>\n",
              "      <td>0</td>\n",
              "    </tr>\n",
              "    <tr>\n",
              "      <th>4</th>\n",
              "      <td>0.031479</td>\n",
              "      <td>0.004642</td>\n",
              "      <td>0.963879</td>\n",
              "      <td>0.0</td>\n",
              "      <td>0</td>\n",
              "    </tr>\n",
              "    <tr>\n",
              "      <th>...</th>\n",
              "      <td>...</td>\n",
              "      <td>...</td>\n",
              "      <td>...</td>\n",
              "      <td>...</td>\n",
              "      <td>...</td>\n",
              "    </tr>\n",
              "    <tr>\n",
              "      <th>195</th>\n",
              "      <td>0.022321</td>\n",
              "      <td>0.006359</td>\n",
              "      <td>0.971320</td>\n",
              "      <td>0.0</td>\n",
              "      <td>1</td>\n",
              "    </tr>\n",
              "    <tr>\n",
              "      <th>196</th>\n",
              "      <td>0.025342</td>\n",
              "      <td>0.005596</td>\n",
              "      <td>0.969062</td>\n",
              "      <td>0.0</td>\n",
              "      <td>1</td>\n",
              "    </tr>\n",
              "    <tr>\n",
              "      <th>197</th>\n",
              "      <td>0.019459</td>\n",
              "      <td>0.004006</td>\n",
              "      <td>0.976534</td>\n",
              "      <td>0.0</td>\n",
              "      <td>1</td>\n",
              "    </tr>\n",
              "    <tr>\n",
              "      <th>198</th>\n",
              "      <td>0.028521</td>\n",
              "      <td>0.007186</td>\n",
              "      <td>0.964293</td>\n",
              "      <td>0.0</td>\n",
              "      <td>1</td>\n",
              "    </tr>\n",
              "    <tr>\n",
              "      <th>199</th>\n",
              "      <td>0.029634</td>\n",
              "      <td>0.007631</td>\n",
              "      <td>0.962734</td>\n",
              "      <td>0.0</td>\n",
              "      <td>1</td>\n",
              "    </tr>\n",
              "  </tbody>\n",
              "</table>\n",
              "<p>200 rows × 5 columns</p>\n",
              "</div>\n",
              "      <button class=\"colab-df-convert\" onclick=\"convertToInteractive('df-dc1762e8-e917-4931-9f2e-47ba1a3a523b')\"\n",
              "              title=\"Convert this dataframe to an interactive table.\"\n",
              "              style=\"display:none;\">\n",
              "        \n",
              "  <svg xmlns=\"http://www.w3.org/2000/svg\" height=\"24px\"viewBox=\"0 0 24 24\"\n",
              "       width=\"24px\">\n",
              "    <path d=\"M0 0h24v24H0V0z\" fill=\"none\"/>\n",
              "    <path d=\"M18.56 5.44l.94 2.06.94-2.06 2.06-.94-2.06-.94-.94-2.06-.94 2.06-2.06.94zm-11 1L8.5 8.5l.94-2.06 2.06-.94-2.06-.94L8.5 2.5l-.94 2.06-2.06.94zm10 10l.94 2.06.94-2.06 2.06-.94-2.06-.94-.94-2.06-.94 2.06-2.06.94z\"/><path d=\"M17.41 7.96l-1.37-1.37c-.4-.4-.92-.59-1.43-.59-.52 0-1.04.2-1.43.59L10.3 9.45l-7.72 7.72c-.78.78-.78 2.05 0 2.83L4 21.41c.39.39.9.59 1.41.59.51 0 1.02-.2 1.41-.59l7.78-7.78 2.81-2.81c.8-.78.8-2.07 0-2.86zM5.41 20L4 18.59l7.72-7.72 1.47 1.35L5.41 20z\"/>\n",
              "  </svg>\n",
              "      </button>\n",
              "      \n",
              "  <style>\n",
              "    .colab-df-container {\n",
              "      display:flex;\n",
              "      flex-wrap:wrap;\n",
              "      gap: 12px;\n",
              "    }\n",
              "\n",
              "    .colab-df-convert {\n",
              "      background-color: #E8F0FE;\n",
              "      border: none;\n",
              "      border-radius: 50%;\n",
              "      cursor: pointer;\n",
              "      display: none;\n",
              "      fill: #1967D2;\n",
              "      height: 32px;\n",
              "      padding: 0 0 0 0;\n",
              "      width: 32px;\n",
              "    }\n",
              "\n",
              "    .colab-df-convert:hover {\n",
              "      background-color: #E2EBFA;\n",
              "      box-shadow: 0px 1px 2px rgba(60, 64, 67, 0.3), 0px 1px 3px 1px rgba(60, 64, 67, 0.15);\n",
              "      fill: #174EA6;\n",
              "    }\n",
              "\n",
              "    [theme=dark] .colab-df-convert {\n",
              "      background-color: #3B4455;\n",
              "      fill: #D2E3FC;\n",
              "    }\n",
              "\n",
              "    [theme=dark] .colab-df-convert:hover {\n",
              "      background-color: #434B5C;\n",
              "      box-shadow: 0px 1px 3px 1px rgba(0, 0, 0, 0.15);\n",
              "      filter: drop-shadow(0px 1px 2px rgba(0, 0, 0, 0.3));\n",
              "      fill: #FFFFFF;\n",
              "    }\n",
              "  </style>\n",
              "\n",
              "      <script>\n",
              "        const buttonEl =\n",
              "          document.querySelector('#df-dc1762e8-e917-4931-9f2e-47ba1a3a523b button.colab-df-convert');\n",
              "        buttonEl.style.display =\n",
              "          google.colab.kernel.accessAllowed ? 'block' : 'none';\n",
              "\n",
              "        async function convertToInteractive(key) {\n",
              "          const element = document.querySelector('#df-dc1762e8-e917-4931-9f2e-47ba1a3a523b');\n",
              "          const dataTable =\n",
              "            await google.colab.kernel.invokeFunction('convertToInteractive',\n",
              "                                                     [key], {});\n",
              "          if (!dataTable) return;\n",
              "\n",
              "          const docLinkHtml = 'Like what you see? Visit the ' +\n",
              "            '<a target=\"_blank\" href=https://colab.research.google.com/notebooks/data_table.ipynb>data table notebook</a>'\n",
              "            + ' to learn more about interactive tables.';\n",
              "          element.innerHTML = '';\n",
              "          dataTable['output_type'] = 'display_data';\n",
              "          await google.colab.output.renderOutput(dataTable, element);\n",
              "          const docLink = document.createElement('div');\n",
              "          docLink.innerHTML = docLinkHtml;\n",
              "          element.appendChild(docLink);\n",
              "        }\n",
              "      </script>\n",
              "    </div>\n",
              "  </div>\n",
              "  "
            ]
          },
          "metadata": {},
          "execution_count": 711
        }
      ]
    },
    {
      "cell_type": "markdown",
      "source": [
        "# VISUALISASI CITRA"
      ],
      "metadata": {
        "id": "oWzxzsSrf62Q"
      }
    },
    {
      "cell_type": "code",
      "source": [
        "kelas0 = citra_piksel[1]\n",
        "kelas1 = citra_piksel[101]"
      ],
      "metadata": {
        "id": "PIM-Li4hx7rU"
      },
      "execution_count": null,
      "outputs": []
    },
    {
      "cell_type": "code",
      "source": [
        "citra_data = [kelas0, kelas1]\n",
        "teks_data = [\"Nazli\",\"Ak\"]\n",
        "\n",
        "figure = plt.figure(figsize = (20, 20))\n",
        "next = 1\n",
        "\n",
        "for i in range(0, len(citra_data)):\n",
        "    tampilan = figure.add_subplot(3, 2, next)\n",
        "    tampilan.imshow(citra_data[i], cmap='gray')\n",
        "    tampilan.title.set_text(teks_data[i])\n",
        "    next += 1\n",
        "\n",
        "plt.show()"
      ],
      "metadata": {
        "colab": {
          "base_uri": "https://localhost:8080/",
          "height": 367
        },
        "id": "psnzGdAyzAWM",
        "outputId": "b21b92ce-32e7-4c73-9989-3563f0d11a52"
      },
      "execution_count": null,
      "outputs": [
        {
          "output_type": "display_data",
          "data": {
            "text/plain": [
              "<Figure size 1440x1440 with 2 Axes>"
            ],
            "image/png": "[encoded data removed]"
          },
          "metadata": {
            "needs_background": "light"
          }
        }
      ]
    },
    {
      "cell_type": "code",
      "source": [
        "lbp0 = lbpFeatures(kelas0, 6, 2)\n",
        "lbp1 = lbpFeatures(kelas1, 6, 2)"
      ],
      "metadata": {
        "id": "N_FeGBPXy3Xu"
      },
      "execution_count": null,
      "outputs": []
    },
    {
      "cell_type": "code",
      "source": [
        "lbp_data = [lbp0, lbp1]\n",
        "height = range(len(lbp0))\n",
        "teks_data = [\"LBP Nazli\", \"LBP Ak\"]\n",
        "\n",
        "figure = plt.figure(figsize = (20, 20))\n",
        "next = 1\n",
        "\n",
        "for i in range(0, len(citra_data)):\n",
        "    tampilan = figure.add_subplot(3, 2, next)\n",
        "    tampilan.bar(height, lbp_data[i])\n",
        "    tampilan.title.set_text(teks_data[i])\n",
        "    next += 1\n",
        "\n",
        "plt.show()\n"
      ],
      "metadata": {
        "colab": {
          "base_uri": "https://localhost:8080/",
          "height": 303
        },
        "id": "2CzxC7EgzRei",
        "outputId": "f7be1f76-6db9-417f-864d-e14d207cb326"
      },
      "execution_count": null,
      "outputs": [
        {
          "output_type": "display_data",
          "data": {
            "text/plain": [
              "<Figure size 1440x1440 with 2 Axes>"
            ],
            "image/png": "[encoded data removed]"
          },
          "metadata": {
            "needs_background": "light"
          }
        }
      ]
    },
    {
      "cell_type": "code",
      "source": [
        "citra_df.to_csv(\"datasetdaun.csv\",index=False)"
      ],
      "metadata": {
        "id": "qhfIl7jfJ9av"
      },
      "execution_count": null,
      "outputs": []
    },
    {
      "cell_type": "markdown",
      "source": [
        "# SPLITTING DATA\n"
      ],
      "metadata": {
        "id": "5p3Zj7A52NDL"
      }
    },
    {
      "cell_type": "code",
      "source": [
        "from sklearn.svm import SVC\n",
        "from sklearn.model_selection import StratifiedKFold\n",
        "from sklearn.metrics import accuracy_score, classification_report"
      ],
      "metadata": {
        "id": "haVoTjOddaOS"
      },
      "execution_count": null,
      "outputs": []
    },
    {
      "cell_type": "code",
      "source": [
        "citra_df = pd.read_csv(\"datasetdaun.csv\")\n",
        "X = citra_df.iloc[:,:-1].copy()\n",
        "Y = citra_df[['label']].copy()"
      ],
      "metadata": {
        "id": "i77oh4Se2Or4"
      },
      "execution_count": null,
      "outputs": []
    },
    {
      "cell_type": "code",
      "source": [
        "citra_df"
      ],
      "metadata": {
        "colab": {
          "base_uri": "https://localhost:8080/",
          "height": 424
        },
        "id": "BaP1_PDbKVEy",
        "outputId": "274b5ae2-181a-4151-ae48-d271c6649d03"
      },
      "execution_count": null,
      "outputs": [
        {
          "output_type": "execute_result",
          "data": {
            "text/plain": [
              "            0         1         2    3  label\n",
              "0    0.026455  0.005787  0.967758  0.0      0\n",
              "1    0.032432  0.007758  0.959809  0.0      0\n",
              "2    0.022035  0.006614  0.971351  0.0      0\n",
              "3    0.030843  0.011574  0.957583  0.0      0\n",
              "4    0.031479  0.004642  0.963879  0.0      0\n",
              "..        ...       ...       ...  ...    ...\n",
              "195  0.022321  0.006359  0.971320  0.0      1\n",
              "196  0.025342  0.005596  0.969062  0.0      1\n",
              "197  0.019459  0.004006  0.976534  0.0      1\n",
              "198  0.028521  0.007186  0.964293  0.0      1\n",
              "199  0.029634  0.007631  0.962734  0.0      1\n",
              "\n",
              "[200 rows x 5 columns]"
            ],
            "text/html": [
              "\n",
              "  <div id=\"df-18f3e933-6f3a-47aa-a256-f38e77acdec3\">\n",
              "    <div class=\"colab-df-container\">\n",
              "      <div>\n",
              "<style scoped>\n",
              "    .dataframe tbody tr th:only-of-type {\n",
              "        vertical-align: middle;\n",
              "    }\n",
              "\n",
              "    .dataframe tbody tr th {\n",
              "        vertical-align: top;\n",
              "    }\n",
              "\n",
              "    .dataframe thead th {\n",
              "        text-align: right;\n",
              "    }\n",
              "</style>\n",
              "<table border=\"1\" class=\"dataframe\">\n",
              "  <thead>\n",
              "    <tr style=\"text-align: right;\">\n",
              "      <th></th>\n",
              "      <th>0</th>\n",
              "      <th>1</th>\n",
              "      <th>2</th>\n",
              "      <th>3</th>\n",
              "      <th>label</th>\n",
              "    </tr>\n",
              "  </thead>\n",
              "  <tbody>\n",
              "    <tr>\n",
              "      <th>0</th>\n",
              "      <td>0.026455</td>\n",
              "      <td>0.005787</td>\n",
              "      <td>0.967758</td>\n",
              "      <td>0.0</td>\n",
              "      <td>0</td>\n",
              "    </tr>\n",
              "    <tr>\n",
              "      <th>1</th>\n",
              "      <td>0.032432</td>\n",
              "      <td>0.007758</td>\n",
              "      <td>0.959809</td>\n",
              "      <td>0.0</td>\n",
              "      <td>0</td>\n",
              "    </tr>\n",
              "    <tr>\n",
              "      <th>2</th>\n",
              "      <td>0.022035</td>\n",
              "      <td>0.006614</td>\n",
              "      <td>0.971351</td>\n",
              "      <td>0.0</td>\n",
              "      <td>0</td>\n",
              "    </tr>\n",
              "    <tr>\n",
              "      <th>3</th>\n",
              "      <td>0.030843</td>\n",
              "      <td>0.011574</td>\n",
              "      <td>0.957583</td>\n",
              "      <td>0.0</td>\n",
              "      <td>0</td>\n",
              "    </tr>\n",
              "    <tr>\n",
              "      <th>4</th>\n",
              "      <td>0.031479</td>\n",
              "      <td>0.004642</td>\n",
              "      <td>0.963879</td>\n",
              "      <td>0.0</td>\n",
              "      <td>0</td>\n",
              "    </tr>\n",
              "    <tr>\n",
              "      <th>...</th>\n",
              "      <td>...</td>\n",
              "      <td>...</td>\n",
              "      <td>...</td>\n",
              "      <td>...</td>\n",
              "      <td>...</td>\n",
              "    </tr>\n",
              "    <tr>\n",
              "      <th>195</th>\n",
              "      <td>0.022321</td>\n",
              "      <td>0.006359</td>\n",
              "      <td>0.971320</td>\n",
              "      <td>0.0</td>\n",
              "      <td>1</td>\n",
              "    </tr>\n",
              "    <tr>\n",
              "      <th>196</th>\n",
              "      <td>0.025342</td>\n",
              "      <td>0.005596</td>\n",
              "      <td>0.969062</td>\n",
              "      <td>0.0</td>\n",
              "      <td>1</td>\n",
              "    </tr>\n",
              "    <tr>\n",
              "      <th>197</th>\n",
              "      <td>0.019459</td>\n",
              "      <td>0.004006</td>\n",
              "      <td>0.976534</td>\n",
              "      <td>0.0</td>\n",
              "      <td>1</td>\n",
              "    </tr>\n",
              "    <tr>\n",
              "      <th>198</th>\n",
              "      <td>0.028521</td>\n",
              "      <td>0.007186</td>\n",
              "      <td>0.964293</td>\n",
              "      <td>0.0</td>\n",
              "      <td>1</td>\n",
              "    </tr>\n",
              "    <tr>\n",
              "      <th>199</th>\n",
              "      <td>0.029634</td>\n",
              "      <td>0.007631</td>\n",
              "      <td>0.962734</td>\n",
              "      <td>0.0</td>\n",
              "      <td>1</td>\n",
              "    </tr>\n",
              "  </tbody>\n",
              "</table>\n",
              "<p>200 rows × 5 columns</p>\n",
              "</div>\n",
              "      <button class=\"colab-df-convert\" onclick=\"convertToInteractive('df-18f3e933-6f3a-47aa-a256-f38e77acdec3')\"\n",
              "              title=\"Convert this dataframe to an interactive table.\"\n",
              "              style=\"display:none;\">\n",
              "        \n",
              "  <svg xmlns=\"http://www.w3.org/2000/svg\" height=\"24px\"viewBox=\"0 0 24 24\"\n",
              "       width=\"24px\">\n",
              "    <path d=\"M0 0h24v24H0V0z\" fill=\"none\"/>\n",
              "    <path d=\"M18.56 5.44l.94 2.06.94-2.06 2.06-.94-2.06-.94-.94-2.06-.94 2.06-2.06.94zm-11 1L8.5 8.5l.94-2.06 2.06-.94-2.06-.94L8.5 2.5l-.94 2.06-2.06.94zm10 10l.94 2.06.94-2.06 2.06-.94-2.06-.94-.94-2.06-.94 2.06-2.06.94z\"/><path d=\"M17.41 7.96l-1.37-1.37c-.4-.4-.92-.59-1.43-.59-.52 0-1.04.2-1.43.59L10.3 9.45l-7.72 7.72c-.78.78-.78 2.05 0 2.83L4 21.41c.39.39.9.59 1.41.59.51 0 1.02-.2 1.41-.59l7.78-7.78 2.81-2.81c.8-.78.8-2.07 0-2.86zM5.41 20L4 18.59l7.72-7.72 1.47 1.35L5.41 20z\"/>\n",
              "  </svg>\n",
              "      </button>\n",
              "      \n",
              "  <style>\n",
              "    .colab-df-container {\n",
              "      display:flex;\n",
              "      flex-wrap:wrap;\n",
              "      gap: 12px;\n",
              "    }\n",
              "\n",
              "    .colab-df-convert {\n",
              "      background-color: #E8F0FE;\n",
              "      border: none;\n",
              "      border-radius: 50%;\n",
              "      cursor: pointer;\n",
              "      display: none;\n",
              "      fill: #1967D2;\n",
              "      height: 32px;\n",
              "      padding: 0 0 0 0;\n",
              "      width: 32px;\n",
              "    }\n",
              "\n",
              "    .colab-df-convert:hover {\n",
              "      background-color: #E2EBFA;\n",
              "      box-shadow: 0px 1px 2px rgba(60, 64, 67, 0.3), 0px 1px 3px 1px rgba(60, 64, 67, 0.15);\n",
              "      fill: #174EA6;\n",
              "    }\n",
              "\n",
              "    [theme=dark] .colab-df-convert {\n",
              "      background-color: #3B4455;\n",
              "      fill: #D2E3FC;\n",
              "    }\n",
              "\n",
              "    [theme=dark] .colab-df-convert:hover {\n",
              "      background-color: #434B5C;\n",
              "      box-shadow: 0px 1px 3px 1px rgba(0, 0, 0, 0.15);\n",
              "      filter: drop-shadow(0px 1px 2px rgba(0, 0, 0, 0.3));\n",
              "      fill: #FFFFFF;\n",
              "    }\n",
              "  </style>\n",
              "\n",
              "      <script>\n",
              "        const buttonEl =\n",
              "          document.querySelector('#df-18f3e933-6f3a-47aa-a256-f38e77acdec3 button.colab-df-convert');\n",
              "        buttonEl.style.display =\n",
              "          google.colab.kernel.accessAllowed ? 'block' : 'none';\n",
              "\n",
              "        async function convertToInteractive(key) {\n",
              "          const element = document.querySelector('#df-18f3e933-6f3a-47aa-a256-f38e77acdec3');\n",
              "          const dataTable =\n",
              "            await google.colab.kernel.invokeFunction('convertToInteractive',\n",
              "                                                     [key], {});\n",
              "          if (!dataTable) return;\n",
              "\n",
              "          const docLinkHtml = 'Like what you see? Visit the ' +\n",
              "            '<a target=\"_blank\" href=https://colab.research.google.com/notebooks/data_table.ipynb>data table notebook</a>'\n",
              "            + ' to learn more about interactive tables.';\n",
              "          element.innerHTML = '';\n",
              "          dataTable['output_type'] = 'display_data';\n",
              "          await google.colab.output.renderOutput(dataTable, element);\n",
              "          const docLink = document.createElement('div');\n",
              "          docLink.innerHTML = docLinkHtml;\n",
              "          element.appendChild(docLink);\n",
              "        }\n",
              "      </script>\n",
              "    </div>\n",
              "  </div>\n",
              "  "
            ]
          },
          "metadata": {},
          "execution_count": 719
        }
      ]
    },
    {
      "cell_type": "code",
      "source": [
        "from sklearn.model_selection import train_test_split\n",
        "\n",
        "X_train, X_test, y_train, y_test = train_test_split(X, Y, test_size = 0.2, stratify = Y, random_state = 10)"
      ],
      "metadata": {
        "id": "NzMvfSB8cEIW"
      },
      "execution_count": null,
      "outputs": []
    },
    {
      "cell_type": "markdown",
      "source": [
        "# SVM"
      ],
      "metadata": {
        "id": "Lex8Yyqt1Ja4"
      }
    },
    {
      "cell_type": "code",
      "source": [
        "modelSVM = SVC(kernel = 'linear', C = 1000, gamma = 1, decision_function_shape = 'ovr', class_weight = 'balanced')\n",
        "\n",
        "modelSVM.fit(X_train, y_train.values.ravel())\n",
        "\n",
        "y_pred_svm = modelSVM.predict(X_test)"
      ],
      "metadata": {
        "id": "mLdyZzqWcLKE"
      },
      "execution_count": null,
      "outputs": []
    },
    {
      "cell_type": "code",
      "source": [
        "from sklearn.metrics import precision_score, recall_score, f1_score\n",
        "\n",
        "print(f'Accuracy Score : {accuracy_score(y_test, y_pred_svm)}')\n",
        "\n",
        "print('Precission Score : ', precision_score(y_test, y_pred_svm, average='micro'))\n",
        "\n",
        "print('Recall Score : ', precision_score(y_test, y_pred_svm, average='micro'))\n",
        "\n",
        "print('F1 Score : ', precision_score(y_test, y_pred_svm, average='micro'))"
      ],
      "metadata": {
        "colab": {
          "base_uri": "https://localhost:8080/"
        },
        "id": "j3RlhALPfEkp",
        "outputId": "9cc367b0-7bb1-482d-954b-38afe00f3b8f"
      },
      "execution_count": null,
      "outputs": [
        {
          "output_type": "stream",
          "name": "stdout",
          "text": [
            "Accuracy Score : 0.875\n",
            "Precission Score :  0.875\n",
            "Recall Score :  0.875\n",
            "F1 Score :  0.875\n"
          ]
        }
      ]
    },
    {
      "cell_type": "code",
      "source": [
        "print(classification_report(y_test, y_pred_svm))"
      ],
      "metadata": {
        "colab": {
          "base_uri": "https://localhost:8080/"
        },
        "id": "d-y9R5SDewa2",
        "outputId": "14e90c6a-9578-4daa-b222-54f3fdcef628"
      },
      "execution_count": null,
      "outputs": [
        {
          "output_type": "stream",
          "name": "stdout",
          "text": [
            "              precision    recall  f1-score   support\n",
            "\n",
            "           0       0.89      0.85      0.87        20\n",
            "           1       0.86      0.90      0.88        20\n",
            "\n",
            "    accuracy                           0.88        40\n",
            "   macro avg       0.88      0.88      0.87        40\n",
            "weighted avg       0.88      0.88      0.87        40\n",
            "\n"
          ]
        }
      ]
    },
    {
      "cell_type": "code",
      "source": [
        "import seaborn as sns\n",
        "import tensorflow as tf\n",
        "\n",
        "cm = tf.math.confusion_matrix(labels=y_test,predictions=y_pred_svm)\n",
        "\n",
        "plt.figure(figsize = (10,7))\n",
        "sns.heatmap(cm, annot=True, fmt='d')\n",
        "plt.xlabel('Class Prediksi')\n",
        "plt.ylabel('Class Asli')"
      ],
      "metadata": {
        "colab": {
          "base_uri": "https://localhost:8080/",
          "height": 465
        },
        "id": "X_nXLVMhdgWe",
        "outputId": "31716371-cd6c-4ad2-98f5-b9a02e504cc6"
      },
      "execution_count": null,
      "outputs": [
        {
          "output_type": "execute_result",
          "data": {
            "text/plain": [
              "Text(69.0, 0.5, 'Class Asli')"
            ]
          },
          "metadata": {},
          "execution_count": 724
        },
        {
          "output_type": "display_data",
          "data": {
            "text/plain": [
              "<Figure size 720x504 with 2 Axes>"
            ],
            "image/png": "[encoded data removed]"
          },
          "metadata": {
            "needs_background": "light"
          }
        }
      ]
    }
  ],
  "metadata": {
    "colab": {
      "provenance": []
    },
    "kernelspec": {
      "display_name": "Python 3",
      "name": "python3"
    },
    "language_info": {
      "name": "python"
    }
  },
  "nbformat": 4,
  "nbformat_minor": 0
}